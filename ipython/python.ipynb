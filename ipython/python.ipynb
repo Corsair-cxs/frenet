{
 "cells": [
  {
   "cell_type": "code",
   "execution_count": 1,
   "metadata": {
    "collapsed": false
   },
   "outputs": [],
   "source": [
    "%matplotlib inline\n",
    "%config InlineBackend.figure_format = 'retina'\n",
    "import pdb\n",
    "\n",
    "import time\n",
    "import pylab as pl\n",
    "from IPython import display\n",
    "\n",
    "import matplotlib\n",
    "import numpy as np\n",
    "import matplotlib.pyplot as plt\n",
    "\n",
    "import copy\n",
    "import math\n",
    "\n",
    "from cubic_spline_planner import *"
   ]
  },
  {
   "cell_type": "code",
   "execution_count": 2,
   "metadata": {
    "collapsed": true
   },
   "outputs": [],
   "source": [
    "class quintic_polynomial:\n",
    "\n",
    "    def __init__(self, xs, vxs, axs, xe, vxe, axe, T):\n",
    "\n",
    "        # calc coefficient of quintic polynomial\n",
    "        self.xs = xs\n",
    "        self.vxs = vxs\n",
    "        self.axs = axs\n",
    "        self.xe = xe\n",
    "        self.vxe = vxe\n",
    "        self.axe = axe\n",
    "\n",
    "        self.a0 = xs\n",
    "        self.a1 = vxs\n",
    "        self.a2 = axs / 2.0\n",
    "\n",
    "        A = np.array([[T**3, T**4, T**5],\n",
    "                      [3 * T ** 2, 4 * T ** 3, 5 * T ** 4],\n",
    "                      [6 * T, 12 * T ** 2, 20 * T ** 3]])\n",
    "        b = np.array([xe - self.a0 - self.a1 * T - self.a2 * T**2,\n",
    "                      vxe - self.a1 - 2 * self.a2 * T,\n",
    "                      axe - 2 * self.a2])\n",
    "        x = np.linalg.solve(A, b)\n",
    "\n",
    "        self.a3 = x[0]\n",
    "        self.a4 = x[1]\n",
    "        self.a5 = x[2]\n",
    "\n",
    "    def calc_point(self, t):\n",
    "        xt = self.a0 + self.a1 * t + self.a2 * t**2 + \\\n",
    "            self.a3 * t**3 + self.a4 * t**4 + self.a5 * t**5\n",
    "\n",
    "        return xt\n",
    "\n",
    "    def calc_first_derivative(self, t):\n",
    "        xt = self.a1 + 2 * self.a2 * t + \\\n",
    "            3 * self.a3 * t**2 + 4 * self.a4 * t**3 + 5 * self.a5 * t**4\n",
    "\n",
    "        return xt\n",
    "\n",
    "    def calc_second_derivative(self, t):\n",
    "        xt = 2 * self.a2 + 6 * self.a3 * t + 12 * self.a4 * t**2 + 20 * self.a5 * t**3\n",
    "\n",
    "        return xt\n",
    "\n",
    "    def calc_third_derivative(self, t):\n",
    "        xt = 6 * self.a3 + 24 * self.a4 * t + 60 * self.a5 * t**2\n",
    "\n",
    "        return xt"
   ]
  },
  {
   "cell_type": "code",
   "execution_count": 3,
   "metadata": {
    "collapsed": true
   },
   "outputs": [],
   "source": [
    "class quartic_polynomial:\n",
    "\n",
    "    def __init__(self, xs, vxs, axs, vxe, axe, T):\n",
    "\n",
    "        # calc coefficient of quintic polynomial\n",
    "        self.xs = xs\n",
    "        self.vxs = vxs\n",
    "        self.axs = axs\n",
    "        self.vxe = vxe\n",
    "        self.axe = axe\n",
    "\n",
    "        self.a0 = xs\n",
    "        self.a1 = vxs\n",
    "        self.a2 = axs / 2.0\n",
    "\n",
    "        A = np.array([[3 * T ** 2, 4 * T ** 3],\n",
    "                      [6 * T, 12 * T ** 2]])\n",
    "        b = np.array([vxe - self.a1 - 2 * self.a2 * T,\n",
    "                      axe - 2 * self.a2])\n",
    "        x = np.linalg.solve(A, b)\n",
    "\n",
    "        self.a3 = x[0]\n",
    "        self.a4 = x[1]\n",
    "\n",
    "    def calc_point(self, t):\n",
    "        xt = self.a0 + self.a1 * t + self.a2 * t**2 + \\\n",
    "            self.a3 * t**3 + self.a4 * t**4\n",
    "\n",
    "        return xt\n",
    "\n",
    "    def calc_first_derivative(self, t):\n",
    "        xt = self.a1 + 2 * self.a2 * t + \\\n",
    "            3 * self.a3 * t**2 + 4 * self.a4 * t**3\n",
    "\n",
    "        return xt\n",
    "\n",
    "    def calc_second_derivative(self, t):\n",
    "        xt = 2 * self.a2 + 6 * self.a3 * t + 12 * self.a4 * t**2\n",
    "\n",
    "        return xt\n",
    "\n",
    "    def calc_third_derivative(self, t):\n",
    "        xt = 6 * self.a3 + 24 * self.a4 * t\n",
    "\n",
    "        return xt"
   ]
  },
  {
   "cell_type": "code",
   "execution_count": 4,
   "metadata": {
    "collapsed": true
   },
   "outputs": [],
   "source": [
    "class Frenet_path:\n",
    "\n",
    "    def __init__(self):\n",
    "        self.t = []\n",
    "        self.d = []\n",
    "        self.d_d = []\n",
    "        self.d_dd = []\n",
    "        self.d_ddd = []\n",
    "        self.s = []\n",
    "        self.s_d = []\n",
    "        self.s_dd = []\n",
    "        self.s_ddd = []\n",
    "        self.cd = 0.0\n",
    "        self.cv = 0.0\n",
    "        self.cf = 0.0\n",
    "\n",
    "        self.x = []\n",
    "        self.y = []\n",
    "        self.yaw = []\n",
    "        self.ds = []\n",
    "        self.c = []"
   ]
  },
  {
   "cell_type": "code",
   "execution_count": 5,
   "metadata": {
    "collapsed": true
   },
   "outputs": [],
   "source": [
    "# Parameter\n",
    "MAX_SPEED = 50.0 / 3.6  # maximum speed [m/s]\n",
    "MAX_ACCEL = 2.0  # maximum acceleration [m/ss]\n",
    "MAX_CURVATURE = 1.0  # maximum curvature [1/m]\n",
    "MAX_ROAD_WIDTH = 7.0  # maximum road width [m]\n",
    "D_ROAD_W = 1.0  # road width sampling length [m]\n",
    "DT = 0.2  # time tick [s]\n",
    "MAXT = 5.0  # max prediction time [m]\n",
    "MINT = 4.0  # min prediction time [m]\n",
    "TARGET_SPEED = 30.0 / 3.6  # target speed [m/s]\n",
    "D_T_S = 5.0 / 3.6  # target speed sampling length [m/s]\n",
    "N_S_SAMPLE = 1  # sampling number of target speed\n",
    "ROBOT_RADIUS = 2.0  # robot radius [m]\n",
    "\n",
    "# cost weights\n",
    "KJ = 0.1\n",
    "KT = 0.1\n",
    "KD = 1.0\n",
    "KLAT = 1.0\n",
    "KLON = 1.0"
   ]
  },
  {
   "cell_type": "code",
   "execution_count": 6,
   "metadata": {
    "collapsed": true
   },
   "outputs": [],
   "source": [
    "def calc_frenet_paths(c_speed, c_d, c_d_d, c_d_dd, s0):\n",
    "\n",
    "    frenet_paths = []\n",
    "\n",
    "    # generate path to each offset goal\n",
    "    for di in np.arange(-MAX_ROAD_WIDTH, MAX_ROAD_WIDTH, D_ROAD_W):\n",
    "\n",
    "        # Lateral motion planning\n",
    "        for Ti in np.arange(MINT, MAXT, DT):\n",
    "            fp = Frenet_path()\n",
    "\n",
    "            lat_qp = quintic_polynomial(c_d, c_d_d, c_d_dd, di, 0.0, 0.0, Ti)\n",
    "\n",
    "            fp.t = [t for t in np.arange(0.0, Ti, DT)]\n",
    "            fp.d = [lat_qp.calc_point(t) for t in fp.t]\n",
    "            fp.d_d = [lat_qp.calc_first_derivative(t) for t in fp.t]\n",
    "            fp.d_dd = [lat_qp.calc_second_derivative(t) for t in fp.t]\n",
    "            fp.d_ddd = [lat_qp.calc_third_derivative(t) for t in fp.t]\n",
    "\n",
    "            # Loongitudinal motion planning (Velocity keeping)\n",
    "            for tv in np.arange(TARGET_SPEED - D_T_S * N_S_SAMPLE, TARGET_SPEED + D_T_S * N_S_SAMPLE, D_T_S):\n",
    "                tfp = copy.deepcopy(fp)\n",
    "                lon_qp = quartic_polynomial(s0, c_speed, 0.0, tv, 0.0, Ti)\n",
    "\n",
    "                tfp.s = [lon_qp.calc_point(t) for t in fp.t]\n",
    "                tfp.s_d = [lon_qp.calc_first_derivative(t) for t in fp.t]\n",
    "                tfp.s_dd = [lon_qp.calc_second_derivative(t) for t in fp.t]\n",
    "                tfp.s_ddd = [lon_qp.calc_third_derivative(t) for t in fp.t]\n",
    "\n",
    "                Jp = sum(np.power(tfp.d_ddd, 2))  # square of jerk\n",
    "                Js = sum(np.power(tfp.s_ddd, 2))  # square of jerk\n",
    "\n",
    "                # square of diff from target speed\n",
    "                ds = (TARGET_SPEED - tfp.s_d[-1])**2\n",
    "\n",
    "                tfp.cd = KJ * Jp + KT * Ti + KD * tfp.d[-1]**2\n",
    "                tfp.cv = KJ * Js + KT * Ti + KD * ds\n",
    "                tfp.cf = KLAT * tfp.cd + KLON * tfp.cv\n",
    "\n",
    "                frenet_paths.append(tfp)\n",
    "\n",
    "    return frenet_paths"
   ]
  },
  {
   "cell_type": "code",
   "execution_count": 7,
   "metadata": {
    "collapsed": true
   },
   "outputs": [],
   "source": [
    "faTrajX = []\n",
    "faTrajY = []\n",
    "\n",
    "def calc_global_paths(fplist, csp):\n",
    "\n",
    "    #faTrajX = []\n",
    "    #faTrajY = []\n",
    "\n",
    "    for fp in fplist:\n",
    "\n",
    "        # calc global positions\n",
    "        for i in range(len(fp.s)):\n",
    "            ix, iy = csp.calc_position(fp.s[i])\n",
    "            if ix is None:\n",
    "                break\n",
    "            iyaw = csp.calc_yaw(fp.s[i])\n",
    "            di = fp.d[i]\n",
    "            fx = ix + di * math.cos(iyaw + math.pi / 2.0)\n",
    "            fy = iy + di * math.sin(iyaw + math.pi / 2.0)\n",
    "            fp.x.append(fx)\n",
    "            fp.y.append(fy)\n",
    "\n",
    "        # Just for plotting\n",
    "        faTrajX.append(fp.x)\n",
    "        faTrajY.append(fp.y)\n",
    "        \n",
    "        # calc yaw and ds\n",
    "        for i in range(len(fp.x) - 1):\n",
    "            dx = fp.x[i + 1] - fp.x[i]\n",
    "            dy = fp.y[i + 1] - fp.y[i]\n",
    "            fp.yaw.append(math.atan2(dy, dx))\n",
    "            fp.ds.append(math.sqrt(dx**2 + dy**2))\n",
    "\n",
    "        fp.yaw.append(fp.yaw[-1])\n",
    "        fp.ds.append(fp.ds[-1])\n",
    "\n",
    "        # calc curvature\n",
    "        for i in range(len(fp.yaw) - 1):\n",
    "            fp.c.append((fp.yaw[i + 1] - fp.yaw[i]) / fp.ds[i])\n",
    "\n",
    "    return fplist"
   ]
  },
  {
   "cell_type": "code",
   "execution_count": 16,
   "metadata": {
    "collapsed": true
   },
   "outputs": [],
   "source": [
    "faTrajCollisionX = []\n",
    "faTrajCollisionY = []\n",
    "faObCollisionX = []\n",
    "faObCollisionY = []\n",
    "\n",
    "def check_collision(fp, ob):\n",
    "    #pdb.set_trace()\n",
    "    for i in range(len(ob[:, 0])):\n",
    "        # Calculate the distance for each trajectory point to the current object\n",
    "        d = [((ix - ob[i, 0])**2 + (iy - ob[i, 1])**2)\n",
    "             for (ix, iy) in zip(fp.x, fp.y)]\n",
    "\n",
    "        # Check if any trajectory point is too close to the object using the robot radius\n",
    "        collision = any([di <= ROBOT_RADIUS**2 for di in d])\n",
    "\n",
    "        if collision:\n",
    "            #plot(ft.x, ft.y, 'rx')\n",
    "            faTrajCollisionX.append(fp.x)\n",
    "            faTrajCollisionY.append(fp.y)\n",
    "            \n",
    "            #plot(ox, oy, 'yo');\n",
    "            #pdb.set_trace()\n",
    "            if ob[i, 0] not in faObCollisionX or ob[i, 1] not in faObCollisionY:\n",
    "                faObCollisionX.append(ob[i, 0])\n",
    "                faObCollisionY.append(ob[i, 1])\n",
    "            \n",
    "            \n",
    "            return True\n",
    "\n",
    "    return False"
   ]
  },
  {
   "cell_type": "code",
   "execution_count": 17,
   "metadata": {
    "collapsed": true
   },
   "outputs": [],
   "source": [
    "#faTrajOkX = []\n",
    "#faTrajOkY = []\n",
    "\n",
    "def check_paths(fplist, ob):\n",
    "\n",
    "    okind = []\n",
    "    for i in range(len(fplist)):\n",
    "        if any([v > MAX_SPEED for v in fplist[i].s_d]):  # Max speed check\n",
    "            continue\n",
    "        elif any([abs(a) > MAX_ACCEL for a in fplist[i].s_dd]):  # Max accel check\n",
    "            continue\n",
    "        elif any([abs(c) > MAX_CURVATURE for c in fplist[i].c]):  # Max curvature check\n",
    "            continue\n",
    "        elif check_collision(fplist[i], ob):\n",
    "            continue\n",
    "\n",
    "        okind.append(i)\n",
    "\n",
    "    return [fplist[i] for i in okind]"
   ]
  },
  {
   "cell_type": "code",
   "execution_count": 18,
   "metadata": {
    "collapsed": true
   },
   "outputs": [],
   "source": [
    "fpplist = []\n",
    "\n",
    "def frenet_optimal_planning(csp, s0, c_speed, c_d, c_d_d, c_d_dd, ob):\n",
    "    #pdb.set_trace()\n",
    "    fplist = calc_frenet_paths(c_speed, c_d, c_d_d, c_d_dd, s0)\n",
    "    fplist = calc_global_paths(fplist, csp)\n",
    "    fplist = check_paths(fplist, ob)\n",
    "    \n",
    "    #fpplist = deepcopy(fplist)\n",
    "    fpplist.extend(fplist)\n",
    "\n",
    "    # find minimum cost path\n",
    "    mincost = float(\"inf\")\n",
    "    bestpath = None\n",
    "    for fp in fplist:\n",
    "        if mincost >= fp.cf:\n",
    "            mincost = fp.cf\n",
    "            bestpath = fp\n",
    "\n",
    "    return bestpath"
   ]
  },
  {
   "cell_type": "code",
   "execution_count": 19,
   "metadata": {
    "collapsed": true
   },
   "outputs": [],
   "source": [
    "from cubic_spline_planner import *\n",
    "def generate_target_course(x, y):\n",
    "    csp = Spline2D(x, y)\n",
    "    s = np.arange(0, csp.s[-1], 0.1)\n",
    "\n",
    "    rx, ry, ryaw, rk = [], [], [], []\n",
    "    for i_s in s:\n",
    "        ix, iy = csp.calc_position(i_s)\n",
    "        rx.append(ix)\n",
    "        ry.append(iy)\n",
    "        ryaw.append(csp.calc_yaw(i_s))\n",
    "        rk.append(csp.calc_curvature(i_s))\n",
    "\n",
    "    return rx, ry, ryaw, rk, csp"
   ]
  },
  {
   "cell_type": "code",
   "execution_count": 20,
   "metadata": {
    "collapsed": true
   },
   "outputs": [],
   "source": [
    "show_animation = True\n",
    "#show_animation = False"
   ]
  },
  {
   "cell_type": "code",
   "execution_count": 21,
   "metadata": {
    "collapsed": false
   },
   "outputs": [
    {
     "data": {
      "image/png": "[encoded data removed]",
      "text/plain": [
       "<matplotlib.figure.Figure at 0x11876f1d0>"
      ]
     },
     "metadata": {
      "image/png": {
       "height": 263,
       "width": 381
      }
     },
     "output_type": "display_data"
    },
    {
     "name": "stdout",
     "output_type": "stream",
     "text": [
      "Goal\n"
     ]
    },
    {
     "data": {
      "image/png": "[encoded data removed]",
      "text/plain": [
       "<matplotlib.figure.Figure at 0x11876f1d0>"
      ]
     },
     "metadata": {
      "image/png": {
       "height": 263,
       "width": 381
      }
     },
     "output_type": "display_data"
    }
   ],
   "source": [
    "# way points\n",
    "wx = [0.0, 10.0, 20.5, 35.0, 70.5]\n",
    "wy = [0.0, -6.0, 5.0, 6.5, 0.0]\n",
    "# obstacle lists\n",
    "ob = np.array([[20.0, 10.0],\n",
    "               [30.0, 6.0],\n",
    "               [30.0, 8.0],\n",
    "               [35.0, 8.0],\n",
    "               [50.0, 3.0]\n",
    "               ])\n",
    "\n",
    "tx, ty, tyaw, tc, csp = generate_target_course(wx, wy)\n",
    "\n",
    "# initial state\n",
    "c_speed = 10.0 / 3.6  # current speed [m/s]\n",
    "c_d = 2.0  # current lateral position [m]\n",
    "c_d_d = 0.0  # current lateral speed [m/s]\n",
    "c_d_dd = 0.0  # current latral acceleration [m/s]\n",
    "s0 = 0.0  # current course position\n",
    "\n",
    "area = 20.0  # animation area length [m]\n",
    "\n",
    "fig = plt.figure()\n",
    "\n",
    "faTx = tx\n",
    "faTy = ty\n",
    "faObx = ob[:, 0]\n",
    "faOby = ob[:, 1]\n",
    "faPathx = []\n",
    "faPathy = []\n",
    "faRobotx = []\n",
    "faRoboty = []\n",
    "faSpeed = []\n",
    "\n",
    "for i in range(100):\n",
    "    path = frenet_optimal_planning(csp, s0, c_speed, c_d, c_d_d, c_d_dd, ob)\n",
    "\n",
    "    s0 = path.s[1]\n",
    "    c_d = path.d[1]\n",
    "    c_d_d = path.d_d[1]\n",
    "    c_d_dd = path.d_dd[1]\n",
    "    c_speed = path.s_d[1]\n",
    "\n",
    "    if np.hypot(path.x[1] - tx[-1], path.y[1] - ty[-1]) <= 1.0:\n",
    "        print(\"Goal\")\n",
    "        break\n",
    "\n",
    "\n",
    "    faPathx.append(path.x[1:])\n",
    "    faPathy.append(path.y[1:])\n",
    "    faRobotx.append(path.x[1])\n",
    "    faRoboty.append(path.y[1])\n",
    "    faSpeed.append(c_speed)\n",
    "    \n",
    "    \n",
    "    if show_animation:\n",
    "        plt.cla()\n",
    "        plt.plot(tx, ty, animated=True)\n",
    "        plt.plot(ob[:, 0], ob[:, 1], \"xk\")\n",
    "        \n",
    "        plt.plot(path.x[1], path.y[1], \"vc\")\n",
    "        \n",
    "        for (ix, iy) in zip(faTrajX, faTrajY):\n",
    "            #pdb.set_trace()\n",
    "            plt.plot(ix[1:], iy[1:], '-', color=[0.5, 0.5, 0.5])\n",
    "        faTrajX = []\n",
    "        faTrajY = []\n",
    "        \n",
    "        for (ix, iy) in zip(faTrajCollisionX, faTrajCollisionY):\n",
    "            #pdb.set_trace()\n",
    "            plt.plot(ix[1:], iy[1:], 'rx')\n",
    "        faTrajCollisionX = []\n",
    "        faTrajCollisionY = []\n",
    "        #pdb.set_trace()\n",
    "        for fp in fpplist:\n",
    "            #pdb.set_trace()\n",
    "            plt.plot(fp.x[1:], fp.y[1:], '-g')\n",
    "        fpplist = []\n",
    "        \n",
    "        #pdb.set_trace()\n",
    "        for (ix, iy) in zip(faObCollisionX, faObCollisionY):\n",
    "            #pdb.set_trace()\n",
    "            plt.plot(ix, iy, 'oy')\n",
    "        faObCollisionX = []\n",
    "        faObCollisionY = []\n",
    "        \n",
    "        plt.plot(path.x[1:], path.y[1:], \"-ob\")\n",
    "        \n",
    "        plt.xlim(path.x[1] - area, path.x[-1] + area)\n",
    "        plt.ylim(path.y[1] - area, path.y[-1] + area)\n",
    "        plt.title(\"v[km/h]:\" + str(c_speed * 3.6)[0:4])\n",
    "        plt.grid(True)\n",
    "        #plt.pause(0.0001)\n",
    "        display.clear_output(wait=True)\n",
    "        display.display(pl.gcf())\n",
    "        \n",
    "\n",
    "#print(\"Finish\")\n",
    "#if show_animation:\n",
    "    #plt.grid(True)\n",
    "    #plt.pause(0.0001)\n",
    "    #plt.show()"
   ]
  },
  {
   "cell_type": "code",
   "execution_count": null,
   "metadata": {
    "collapsed": false
   },
   "outputs": [],
   "source": [
    "from matplotlib import animation\n",
    "\n",
    "fig, ax = plt.subplots();\n",
    "\n",
    "ax.set_xlim((faPathx[1][1] - area, faPathx[1][1] + area))\n",
    "ax.set_ylim((faPathy[1][1] - area, faPathy[1][1] + area))\n",
    "\n",
    "h_ref = ax.plot([], [], \"-b\") # reference path\n",
    "h_obstacles = ax.plot([], [], \"xk\") #obstacles to animate\n",
    "h_path = ax.plot([], [], \"-or\") # trajectory to animate\n",
    "h_car = ax.plot([], [], \"vc\")\n",
    "\n",
    "\n",
    "patches = list(h_obstacles) + list(h_path) + list(h_ref) + list(h_car) #things to animate"
   ]
  },
  {
   "cell_type": "code",
   "execution_count": null,
   "metadata": {
    "collapsed": true
   },
   "outputs": [],
   "source": [
    "def init():\n",
    "    #init lines\n",
    "    h_ref[0].set_data(faTx, faTy)\n",
    "    \n",
    "    h_obstacles[0].set_data(faObx, faOby)\n",
    "    \n",
    "    h_path[0].set_data([], [])\n",
    "    \n",
    "    h_car[0].set_data([], [])\n",
    "    \n",
    "    \n",
    "    ax.set_xlabel('x')\n",
    "    ax.set_ylabel('y')\n",
    "    \n",
    "    ax.grid(True)\n",
    "    \n",
    "    \n",
    "    return patches #return everything that must be updated"
   ]
  },
  {
   "cell_type": "code",
   "execution_count": null,
   "metadata": {
    "collapsed": false
   },
   "outputs": [],
   "source": [
    "# animation function. This is called sequentially\n",
    "def animate(i):\n",
    "\n",
    "\n",
    "    ax.set_xlim((faPathx[i][1] - area, faPathx[i][1] + area))\n",
    "    ax.set_ylim((faPathy[i][1] - area, faPathy[i][1] + area))\n",
    "\n",
    "\n",
    "    h_path[0].set_data(faPathx[i], faPathy[i])\n",
    "\n",
    "    h_car[0].set_data(faRobotx[i], faRoboty[i])\n",
    "    \n",
    "    \n",
    "    ax.set_title(\"v[km/h]:\" + str(faSpeed[i] * 3.6)[0:4], fontsize=12)\n",
    "\n",
    "    return patches #return everything that must be updated"
   ]
  },
  {
   "cell_type": "code",
   "execution_count": null,
   "metadata": {
    "collapsed": false
   },
   "outputs": [],
   "source": [
    "nFrames = len(faPathx)\n",
    "anim = animation.FuncAnimation(fig, animate, init_func=init,\n",
    "                               frames=nFrames, interval=50, blit=True)\n",
    "\n",
    "plt.show()"
   ]
  },
  {
   "cell_type": "code",
   "execution_count": null,
   "metadata": {
    "collapsed": false
   },
   "outputs": [],
   "source": [
    "from IPython.display import HTML\n",
    "HTML(anim.to_html5_video())"
   ]
  },
  {
   "cell_type": "code",
   "execution_count": null,
   "metadata": {
    "collapsed": true
   },
   "outputs": [],
   "source": []
  }
 ],
 "metadata": {
  "kernelspec": {
   "display_name": "Python [default]",
   "language": "python",
   "name": "python3"
  },
  "language_info": {
   "codemirror_mode": {
    "name": "ipython",
    "version": 3
   },
   "file_extension": ".py",
   "mimetype": "text/x-python",
   "name": "python",
   "nbconvert_exporter": "python",
   "pygments_lexer": "ipython3",
   "version": "3.5.2"
  }
 },
 "nbformat": 4,
 "nbformat_minor": 2
}
